{
 "cells": [
  {
   "cell_type": "code",
   "execution_count": null,
   "id": "3b58d52f",
   "metadata": {},
   "outputs": [],
   "source": [
    "n = int(input())\n",
    "s = set(map(int,input().split()))\n",
    "n1=int(input())\n",
    "for i in range(n1):\n",
    "    s1=input().split()\n",
    "    if s1[0]=='pop':\n",
    "        s.pop()\n",
    "    elif s1[0]=='remove':\n",
    "        s.remove(int(s1[1]))\n",
    "    elif s1[0]=='discard':\n",
    "        s.discard(int(s1[1]))\n",
    "c=0\n",
    "for j in s:\n",
    "    c+=j\n",
    "print(c)"
   ]
  }
 ],
 "metadata": {
  "kernelspec": {
   "display_name": "Python 3",
   "language": "python",
   "name": "python3"
  },
  "language_info": {
   "codemirror_mode": {
    "name": "ipython",
    "version": 3
   },
   "file_extension": ".py",
   "mimetype": "text/x-python",
   "name": "python",
   "nbconvert_exporter": "python",
   "pygments_lexer": "ipython3",
   "version": "3.8.8"
  }
 },
 "nbformat": 4,
 "nbformat_minor": 5
}
